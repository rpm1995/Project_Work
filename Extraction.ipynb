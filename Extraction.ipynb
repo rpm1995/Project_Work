{
 "cells": [
  {
   "cell_type": "code",
   "execution_count": 87,
   "metadata": {
    "collapsed": true
   },
   "outputs": [],
   "source": [
    "from pymongo import MongoClient\n",
    "import pandas as pd\n",
    "\n",
    "client = MongoClient('localhost', 27017)\n",
    "db = client['twitterdb']\n",
    "collection = db['twitter_search_keywords']\n",
    "tweets_iterator = collection.find()"
   ]
  },
  {
   "cell_type": "code",
   "execution_count": 88,
   "metadata": {
    "collapsed": true
   },
   "outputs": [],
   "source": [
    "# holdme = {'tweet' : [], 'location' : []}\n",
    "holdme = {}\n",
    "tweet = []\n",
    "location = []\n",
    "for tweets in tweets_iterator:\n",
    "    if tweets['truncated'] is False:\n",
    "#         print(tweets['text'])\n",
    "        tweet.append(tweets['text'])\n",
    "        location.append(tweets['place']['full_name'])\n",
    "    else:\n",
    "#         print(tweets['extended_tweet']['full_text'])\n",
    "        tweet.append(tweets['extended_tweet']['full_text'])\n",
    "        location.append(tweets['place']['full_name'])\n",
    "\n",
    "holdme['location'] = location\n",
    "holdme['tweet'] = tweet"
   ]
  },
  {
   "cell_type": "code",
   "execution_count": 89,
   "metadata": {
    "collapsed": true
   },
   "outputs": [],
   "source": [
    "df = pd.DataFrame.from_dict(holdme)"
   ]
  },
  {
   "cell_type": "code",
   "execution_count": 90,
   "metadata": {},
   "outputs": [
    {
     "data": {
      "text/html": [
       "<div>\n",
       "<style>\n",
       "    .dataframe thead tr:only-child th {\n",
       "        text-align: right;\n",
       "    }\n",
       "\n",
       "    .dataframe thead th {\n",
       "        text-align: left;\n",
       "    }\n",
       "\n",
       "    .dataframe tbody tr th {\n",
       "        vertical-align: top;\n",
       "    }\n",
       "</style>\n",
       "<table border=\"1\" class=\"dataframe\">\n",
       "  <thead>\n",
       "    <tr style=\"text-align: right;\">\n",
       "      <th></th>\n",
       "      <th>tweet</th>\n",
       "      <th>location</th>\n",
       "    </tr>\n",
       "  </thead>\n",
       "  <tbody>\n",
       "    <tr>\n",
       "      <th>0</th>\n",
       "      <td>8 guns like squidward</td>\n",
       "      <td>South Whittier, CA</td>\n",
       "    </tr>\n",
       "    <tr>\n",
       "      <th>1</th>\n",
       "      <td>Interesting as-applied challenge to Florida #S...</td>\n",
       "      <td>Washington, DC</td>\n",
       "    </tr>\n",
       "    <tr>\n",
       "      <th>2</th>\n",
       "      <td>@ed_grimly @HuffPost does it say 18 years old ...</td>\n",
       "      <td>Garland, TX</td>\n",
       "    </tr>\n",
       "    <tr>\n",
       "      <th>3</th>\n",
       "      <td>Screw these gun nuts. https://t.co/7mh7p0LoAS</td>\n",
       "      <td>Franklin, MA</td>\n",
       "    </tr>\n",
       "    <tr>\n",
       "      <th>4</th>\n",
       "      <td>@icecube taught me back in school how gun cont...</td>\n",
       "      <td>Cedarville, IN</td>\n",
       "    </tr>\n",
       "  </tbody>\n",
       "</table>\n",
       "</div>"
      ],
      "text/plain": [
       "                                               tweet            location\n",
       "0                              8 guns like squidward  South Whittier, CA\n",
       "1  Interesting as-applied challenge to Florida #S...      Washington, DC\n",
       "2  @ed_grimly @HuffPost does it say 18 years old ...         Garland, TX\n",
       "3      Screw these gun nuts. https://t.co/7mh7p0LoAS        Franklin, MA\n",
       "4  @icecube taught me back in school how gun cont...      Cedarville, IN"
      ]
     },
     "execution_count": 90,
     "metadata": {},
     "output_type": "execute_result"
    }
   ],
   "source": [
    "df = df[['tweet', 'location']]\n",
    "df.head()"
   ]
  },
  {
   "cell_type": "code",
   "execution_count": 91,
   "metadata": {},
   "outputs": [],
   "source": [
    "tweet_file = \"C://Users//H//Desktop//Spring18//-AdvancedDatabases//Project//tweet_data.csv\"\n",
    "df.to_csv(tweet_file, encoding='utf-8-sig', index=None)"
   ]
  },
  {
   "cell_type": "code",
   "execution_count": null,
   "metadata": {
    "collapsed": true
   },
   "outputs": [],
   "source": []
  }
 ],
 "metadata": {
  "kernelspec": {
   "display_name": "Python 3",
   "language": "python",
   "name": "python3"
  },
  "language_info": {
   "codemirror_mode": {
    "name": "ipython",
    "version": 3
   },
   "file_extension": ".py",
   "mimetype": "text/x-python",
   "name": "python",
   "nbconvert_exporter": "python",
   "pygments_lexer": "ipython3",
   "version": "3.6.2"
  }
 },
 "nbformat": 4,
 "nbformat_minor": 2
}
