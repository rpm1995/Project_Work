{
 "cells": [
  {
   "cell_type": "code",
   "execution_count": 150,
   "metadata": {
    "collapsed": true
   },
   "outputs": [],
   "source": [
    "import csv\n",
    "import pandas as pd\n",
    "import re\n",
    "\n",
    "original_csv = 'C://Users//H//Desktop//Spring18//-AdvancedDatabases//Project//tweet_data.csv'\n",
    "labelled_csv = 'C://Users//H//Desktop//Spring18//-AdvancedDatabases//Project//labelled_data.csv'"
   ]
  },
  {
   "cell_type": "code",
   "execution_count": 151,
   "metadata": {},
   "outputs": [],
   "source": [
    "df = pd.read_csv(original_csv, encoding='utf-8-sig')"
   ]
  },
  {
   "cell_type": "code",
   "execution_count": 152,
   "metadata": {},
   "outputs": [],
   "source": [
    "df.iloc[500:650].to_csv(labelled_csv, encoding='utf-8-sig', index=False)"
   ]
  },
  {
   "cell_type": "code",
   "execution_count": 153,
   "metadata": {},
   "outputs": [],
   "source": [
    "newdf = pd.read_csv(labelled_csv, encoding='utf-8-sig')\n",
    "newdf[len(newdf.columns)] = -2"
   ]
  },
  {
   "cell_type": "code",
   "execution_count": 154,
   "metadata": {},
   "outputs": [
    {
     "data": {
      "text/html": [
       "<div>\n",
       "<style>\n",
       "    .dataframe thead tr:only-child th {\n",
       "        text-align: right;\n",
       "    }\n",
       "\n",
       "    .dataframe thead th {\n",
       "        text-align: left;\n",
       "    }\n",
       "\n",
       "    .dataframe tbody tr th {\n",
       "        vertical-align: top;\n",
       "    }\n",
       "</style>\n",
       "<table border=\"1\" class=\"dataframe\">\n",
       "  <thead>\n",
       "    <tr style=\"text-align: right;\">\n",
       "      <th></th>\n",
       "      <th>Tweet</th>\n",
       "      <th>For guns?</th>\n",
       "      <th>Location</th>\n",
       "    </tr>\n",
       "  </thead>\n",
       "  <tbody>\n",
       "    <tr>\n",
       "      <th>0</th>\n",
       "      <td>Too many laws already!  That’s what got us her...</td>\n",
       "      <td>-2</td>\n",
       "      <td>California, USA</td>\n",
       "    </tr>\n",
       "    <tr>\n",
       "      <th>1</th>\n",
       "      <td>Via @lesliebrody: “I wish there were no guns s...</td>\n",
       "      <td>-2</td>\n",
       "      <td>Ann Arbor, MI</td>\n",
       "    </tr>\n",
       "    <tr>\n",
       "      <th>2</th>\n",
       "      <td>@davidhogg111 @lauren_hoggs this is what happe...</td>\n",
       "      <td>-2</td>\n",
       "      <td>Lake Pocotopaug, CT</td>\n",
       "    </tr>\n",
       "    <tr>\n",
       "      <th>3</th>\n",
       "      <td>@RVAwonk @pudderboy Someone needs to tell me w...</td>\n",
       "      <td>-2</td>\n",
       "      <td>North Port, FL</td>\n",
       "    </tr>\n",
       "    <tr>\n",
       "      <th>4</th>\n",
       "      <td>Somebody needs to tell Junior American psycho ...</td>\n",
       "      <td>-2</td>\n",
       "      <td>California, USA</td>\n",
       "    </tr>\n",
       "  </tbody>\n",
       "</table>\n",
       "</div>"
      ],
      "text/plain": [
       "                                               Tweet  For guns?  \\\n",
       "0  Too many laws already!  That’s what got us her...         -2   \n",
       "1  Via @lesliebrody: “I wish there were no guns s...         -2   \n",
       "2  @davidhogg111 @lauren_hoggs this is what happe...         -2   \n",
       "3  @RVAwonk @pudderboy Someone needs to tell me w...         -2   \n",
       "4  Somebody needs to tell Junior American psycho ...         -2   \n",
       "\n",
       "              Location  \n",
       "0      California, USA  \n",
       "1        Ann Arbor, MI  \n",
       "2  Lake Pocotopaug, CT  \n",
       "3       North Port, FL  \n",
       "4      California, USA  "
      ]
     },
     "execution_count": 154,
     "metadata": {},
     "output_type": "execute_result"
    }
   ],
   "source": [
    "newdf['tweet'] = newdf.apply(lambda row: re.sub(r\"http\\S+\", \"\", row[0]), axis=1)\n",
    "newdf.columns = ['Tweet', 'Location', 'For guns?']\n",
    "newdf = newdf[['Tweet', 'For guns?', 'Location']]\n",
    "newdf.head()"
   ]
  },
  {
   "cell_type": "code",
   "execution_count": 155,
   "metadata": {},
   "outputs": [],
   "source": [
    "newdf.to_csv(labelled_csv, encoding='utf-8-sig', index=False)"
   ]
  },
  {
   "cell_type": "code",
   "execution_count": null,
   "metadata": {
    "collapsed": true
   },
   "outputs": [],
   "source": []
  }
 ],
 "metadata": {
  "kernelspec": {
   "display_name": "Python 3",
   "language": "python",
   "name": "python3"
  },
  "language_info": {
   "codemirror_mode": {
    "name": "ipython",
    "version": 3
   },
   "file_extension": ".py",
   "mimetype": "text/x-python",
   "name": "python",
   "nbconvert_exporter": "python",
   "pygments_lexer": "ipython3",
   "version": "3.6.2"
  }
 },
 "nbformat": 4,
 "nbformat_minor": 2
}
