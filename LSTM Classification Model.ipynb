{
 "cells": [
  {
   "cell_type": "code",
   "execution_count": null,
   "metadata": {
    "collapsed": true
   },
   "outputs": [],
   "source": []
  },
  {
   "cell_type": "code",
   "execution_count": 1,
   "metadata": {},
   "outputs": [
    {
     "name": "stderr",
     "output_type": "stream",
     "text": [
      "C:\\ProgramData\\Anaconda3\\lib\\site-packages\\h5py\\__init__.py:34: FutureWarning: Conversion of the second argument of issubdtype from `float` to `np.floating` is deprecated. In future, it will be treated as `np.float64 == np.dtype(float).type`.\n",
      "  from ._conv import register_converters as _register_converters\n",
      "Using TensorFlow backend.\n"
     ]
    }
   ],
   "source": [
    "import pandas as pd\n",
    "import numpy as np\n",
    "\n",
    "from keras.preprocessing import sequence\n",
    "from keras.models import Sequential, Model\n",
    "from keras.layers import LSTM, Dense, Embedding, Input, Dropout, Activation, GlobalMaxPool1D\n",
    "from keras.preprocessing.text import Tokenizer\n",
    "from keras.preprocessing.sequence import pad_sequences"
   ]
  },
  {
   "cell_type": "code",
   "execution_count": 2,
   "metadata": {},
   "outputs": [
    {
     "data": {
      "text/html": [
       "<div>\n",
       "<style>\n",
       "    .dataframe thead tr:only-child th {\n",
       "        text-align: right;\n",
       "    }\n",
       "\n",
       "    .dataframe thead th {\n",
       "        text-align: left;\n",
       "    }\n",
       "\n",
       "    .dataframe tbody tr th {\n",
       "        vertical-align: top;\n",
       "    }\n",
       "</style>\n",
       "<table border=\"1\" class=\"dataframe\">\n",
       "  <thead>\n",
       "    <tr style=\"text-align: right;\">\n",
       "      <th></th>\n",
       "      <th>Tweet</th>\n",
       "      <th>For guns?</th>\n",
       "      <th>Location</th>\n",
       "      <th>For guns</th>\n",
       "      <th>Against guns</th>\n",
       "      <th>Makes no sense</th>\n",
       "    </tr>\n",
       "  </thead>\n",
       "  <tbody>\n",
       "    <tr>\n",
       "      <th>0</th>\n",
       "      <td>@Mary_rnntt2 @lauren_hoggs You're blinded by y...</td>\n",
       "      <td>0.0</td>\n",
       "      <td>Mountain Lakes, NJ</td>\n",
       "      <td>0</td>\n",
       "      <td>1</td>\n",
       "      <td>0</td>\n",
       "    </tr>\n",
       "    <tr>\n",
       "      <th>1</th>\n",
       "      <td>Hey #MNLEG, don’t be idiotic. gun laws, not pa...</td>\n",
       "      <td>0.0</td>\n",
       "      <td>Minneapolis, MN</td>\n",
       "      <td>0</td>\n",
       "      <td>1</td>\n",
       "      <td>0</td>\n",
       "    </tr>\n",
       "    <tr>\n",
       "      <th>2</th>\n",
       "      <td>Gun owners, women, kids, all opposed to the ab...</td>\n",
       "      <td>0.0</td>\n",
       "      <td>Houston, TX</td>\n",
       "      <td>0</td>\n",
       "      <td>1</td>\n",
       "      <td>0</td>\n",
       "    </tr>\n",
       "    <tr>\n",
       "      <th>3</th>\n",
       "      <td>@PhilipRucker Is he taking guns away from ment...</td>\n",
       "      <td>0.0</td>\n",
       "      <td>Broomall, PA</td>\n",
       "      <td>0</td>\n",
       "      <td>1</td>\n",
       "      <td>0</td>\n",
       "    </tr>\n",
       "    <tr>\n",
       "      <th>4</th>\n",
       "      <td>Blissfully unaware that it’s too late: Califor...</td>\n",
       "      <td>1.0</td>\n",
       "      <td>Teaneck, NJ</td>\n",
       "      <td>1</td>\n",
       "      <td>0</td>\n",
       "      <td>0</td>\n",
       "    </tr>\n",
       "  </tbody>\n",
       "</table>\n",
       "</div>"
      ],
      "text/plain": [
       "                                               Tweet  For guns?  \\\n",
       "0  @Mary_rnntt2 @lauren_hoggs You're blinded by y...        0.0   \n",
       "1  Hey #MNLEG, don’t be idiotic. gun laws, not pa...        0.0   \n",
       "2  Gun owners, women, kids, all opposed to the ab...        0.0   \n",
       "3  @PhilipRucker Is he taking guns away from ment...        0.0   \n",
       "4  Blissfully unaware that it’s too late: Califor...        1.0   \n",
       "\n",
       "             Location  For guns  Against guns  Makes no sense  \n",
       "0  Mountain Lakes, NJ         0             1               0  \n",
       "1     Minneapolis, MN         0             1               0  \n",
       "2         Houston, TX         0             1               0  \n",
       "3        Broomall, PA         0             1               0  \n",
       "4         Teaneck, NJ         1             0               0  "
      ]
     },
     "execution_count": 2,
     "metadata": {},
     "output_type": "execute_result"
    }
   ],
   "source": [
    "dataset = 'C://Users//H//Desktop//Spring18//-AdvancedDatabases//Project//Project_Work//final_dataset.csv'\n",
    "data = pd.read_csv(dataset, encoding='utf-8-sig')\n",
    "data.head()"
   ]
  },
  {
   "cell_type": "code",
   "execution_count": 3,
   "metadata": {
    "collapsed": true
   },
   "outputs": [],
   "source": [
    "training = data.iloc[:340]\n",
    "testing = data.iloc[340:]"
   ]
  },
  {
   "cell_type": "code",
   "execution_count": 4,
   "metadata": {
    "collapsed": true
   },
   "outputs": [],
   "source": [
    "labels = ['For guns', 'Against guns', 'Makes no sense']\n",
    "features_train = training[labels].values\n",
    "features_test = testing[labels].values\n",
    "tweet_train = training['Tweet']\n",
    "tweet_test = testing['Tweet']"
   ]
  },
  {
   "cell_type": "code",
   "execution_count": 5,
   "metadata": {
    "collapsed": true
   },
   "outputs": [],
   "source": [
    "max_words = 20000\n",
    "chunk_size = 200"
   ]
  },
  {
   "cell_type": "code",
   "execution_count": 6,
   "metadata": {
    "collapsed": true
   },
   "outputs": [],
   "source": [
    "# Converting Tweets to Embeddings\n",
    "def convert_embedding(text):\n",
    "    tokenizer = Tokenizer(num_words=max_words)\n",
    "    tokenizer.fit_on_texts(list(text))\n",
    "    tokenized = tokenizer.texts_to_sequences(text)\n",
    "    embedding = pad_sequences(tokenized, maxlen=chunk_size)   # Every Tweet is represented by vector of length 200\n",
    "    return embedding"
   ]
  },
  {
   "cell_type": "code",
   "execution_count": 7,
   "metadata": {
    "collapsed": true
   },
   "outputs": [],
   "source": [
    "x_train = convert_embedding(tweet_train)\n",
    "x_test = convert_embedding(tweet_test)"
   ]
  },
  {
   "cell_type": "code",
   "execution_count": 8,
   "metadata": {},
   "outputs": [
    {
     "name": "stdout",
     "output_type": "stream",
     "text": [
      "Building LSTM\n"
     ]
    }
   ],
   "source": [
    "print(\"Building LSTM\")\n",
    "model = Sequential()\n",
    "model.add(Embedding(max_words, 128))\n",
    "model.add(LSTM(128, dropout=0.2, recurrent_dropout=0.2))\n",
    "model.add(Dense(3, activation='sigmoid'))\n",
    "model.compile(loss='binary_crossentropy', optimizer='adam', metrics=['accuracy'])"
   ]
  },
  {
   "cell_type": "code",
   "execution_count": 9,
   "metadata": {},
   "outputs": [
    {
     "name": "stdout",
     "output_type": "stream",
     "text": [
      "Training LSTM\n",
      "Train on 306 samples, validate on 34 samples\n",
      "Epoch 1/20\n",
      "306/306 [==============================] - 5s 15ms/step - loss: 0.6753 - acc: 0.6492 - val_loss: 0.6577 - val_acc: 0.6765\n",
      "Epoch 2/20\n",
      "306/306 [==============================] - 4s 12ms/step - loss: 0.5980 - acc: 0.7026 - val_loss: 0.6410 - val_acc: 0.6569\n",
      "Epoch 3/20\n",
      "306/306 [==============================] - 4s 12ms/step - loss: 0.5666 - acc: 0.7102 - val_loss: 0.6238 - val_acc: 0.6667\n",
      "Epoch 4/20\n",
      "306/306 [==============================] - 4s 12ms/step - loss: 0.5371 - acc: 0.7320 - val_loss: 0.6165 - val_acc: 0.6667\n",
      "Epoch 5/20\n",
      "306/306 [==============================] - 4s 12ms/step - loss: 0.4820 - acc: 0.7821 - val_loss: 0.6141 - val_acc: 0.6471\n",
      "Epoch 6/20\n",
      "306/306 [==============================] - 4s 12ms/step - loss: 0.4061 - acc: 0.8333 - val_loss: 0.5988 - val_acc: 0.6765\n",
      "Epoch 7/20\n",
      "306/306 [==============================] - 4s 12ms/step - loss: 0.3285 - acc: 0.8606 - val_loss: 0.5875 - val_acc: 0.6569\n",
      "Epoch 8/20\n",
      "306/306 [==============================] - 4s 12ms/step - loss: 0.2547 - acc: 0.8976 - val_loss: 0.6827 - val_acc: 0.6863\n",
      "Epoch 9/20\n",
      "306/306 [==============================] - 4s 12ms/step - loss: 0.1961 - acc: 0.9314 - val_loss: 0.5942 - val_acc: 0.6569\n",
      "Epoch 10/20\n",
      "306/306 [==============================] - 4s 14ms/step - loss: 0.1370 - acc: 0.9597 - val_loss: 0.8310 - val_acc: 0.6863\n",
      "Epoch 11/20\n",
      "306/306 [==============================] - 4s 12ms/step - loss: 0.0873 - acc: 0.9826 - val_loss: 0.9212 - val_acc: 0.6961\n",
      "Epoch 12/20\n",
      "306/306 [==============================] - 4s 12ms/step - loss: 0.0431 - acc: 0.9967 - val_loss: 1.3306 - val_acc: 0.6471\n",
      "Epoch 13/20\n",
      "306/306 [==============================] - 4s 12ms/step - loss: 0.0788 - acc: 0.9771 - val_loss: 0.9299 - val_acc: 0.6569\n",
      "Epoch 14/20\n",
      "306/306 [==============================] - 4s 13ms/step - loss: 0.0647 - acc: 0.9902 - val_loss: 1.0324 - val_acc: 0.6373\n",
      "Epoch 15/20\n",
      "306/306 [==============================] - 4s 13ms/step - loss: 0.0526 - acc: 0.9956 - val_loss: 0.8109 - val_acc: 0.6471\n",
      "Epoch 16/20\n",
      "306/306 [==============================] - 4s 13ms/step - loss: 0.0397 - acc: 0.9956 - val_loss: 0.8868 - val_acc: 0.6863\n",
      "Epoch 17/20\n",
      "306/306 [==============================] - 4s 13ms/step - loss: 0.0240 - acc: 0.9978 - val_loss: 1.0878 - val_acc: 0.6863\n",
      "Epoch 18/20\n",
      "306/306 [==============================] - 4s 13ms/step - loss: 0.0185 - acc: 0.9978 - val_loss: 1.2377 - val_acc: 0.6667\n",
      "Epoch 19/20\n",
      "306/306 [==============================] - 4s 12ms/step - loss: 0.0143 - acc: 0.9978 - val_loss: 1.2745 - val_acc: 0.6373\n",
      "Epoch 20/20\n",
      "306/306 [==============================] - 4s 13ms/step - loss: 0.0121 - acc: 0.9978 - val_loss: 1.3143 - val_acc: 0.6373\n"
     ]
    },
    {
     "data": {
      "text/plain": [
       "<keras.callbacks.History at 0x1fcd08c4470>"
      ]
     },
     "execution_count": 9,
     "metadata": {},
     "output_type": "execute_result"
    }
   ],
   "source": [
    "print(\"Training LSTM\")\n",
    "model.fit(x_train, features_train, batch_size=32, epochs=20, validation_split=0.1)"
   ]
  },
  {
   "cell_type": "code",
   "execution_count": 10,
   "metadata": {},
   "outputs": [
    {
     "name": "stdout",
     "output_type": "stream",
     "text": [
      "Train on 340 samples, validate on 81 samples\n",
      "Epoch 1/5\n",
      "340/340 [==============================] - 5s 15ms/step - loss: 0.6789 - acc: 0.6176 - val_loss: 0.6480 - val_acc: 0.6831\n",
      "Epoch 2/5\n",
      "340/340 [==============================] - 3s 8ms/step - loss: 0.6362 - acc: 0.6647 - val_loss: 0.6030 - val_acc: 0.6667\n",
      "Epoch 3/5\n",
      "340/340 [==============================] - 3s 9ms/step - loss: 0.6162 - acc: 0.6686 - val_loss: 0.6123 - val_acc: 0.6667\n",
      "Epoch 4/5\n",
      "340/340 [==============================] - 3s 9ms/step - loss: 0.6092 - acc: 0.6667 - val_loss: 0.6042 - val_acc: 0.6667\n",
      "Epoch 5/5\n",
      "340/340 [==============================] - 3s 9ms/step - loss: 0.5907 - acc: 0.6745 - val_loss: 0.5952 - val_acc: 0.6667\n"
     ]
    },
    {
     "data": {
      "text/plain": [
       "<keras.callbacks.History at 0x1fcd40715c0>"
      ]
     },
     "execution_count": 10,
     "metadata": {},
     "output_type": "execute_result"
    }
   ],
   "source": [
    "inp = Input(shape=(chunk_size, ))\n",
    "embed_size = 128\n",
    "x1 = Embedding(max_words, embed_size)(inp)\n",
    "x1 = LSTM(60, return_sequences=True, name='lstm_layer')(x1)\n",
    "x1 = GlobalMaxPool1D()(x1)\n",
    "# x1 = Dropout(0.1)(x1)\n",
    "x1 = Dense(50, activation='relu')(x1)\n",
    "x1 = Dropout(0.1)(x1)\n",
    "x1 = Dense(3, activation='sigmoid')(x1)\n",
    "model = Model(inputs=inp, outputs=x1)\n",
    "model.compile(loss='binary_crossentropy', optimizer='adam', metrics=['accuracy'])\n",
    "model.fit(x_train, features_train, epochs=5, batch_size=32, validation_data=(x_test, features_test))"
   ]
  },
  {
   "cell_type": "code",
   "execution_count": 11,
   "metadata": {},
   "outputs": [
    {
     "data": {
      "text/plain": [
       "array([[0.20159674, 0.42922023, 0.35911864],\n",
       "       [0.19861096, 0.43909538, 0.3607603 ],\n",
       "       [0.19732977, 0.42792493, 0.36550754],\n",
       "       [0.20611168, 0.41040257, 0.38239464],\n",
       "       [0.19534165, 0.45775244, 0.33277142],\n",
       "       [0.19765311, 0.42484635, 0.37343448],\n",
       "       [0.19530053, 0.4510795 , 0.3379714 ],\n",
       "       [0.19821247, 0.43094257, 0.36551094],\n",
       "       [0.19345771, 0.4346011 , 0.3625552 ],\n",
       "       [0.20018955, 0.41410583, 0.37949583],\n",
       "       [0.2012406 , 0.44914424, 0.34514642],\n",
       "       [0.19469297, 0.39410302, 0.40365493],\n",
       "       [0.19605087, 0.4040732 , 0.39480454],\n",
       "       [0.19705611, 0.43424875, 0.3615165 ],\n",
       "       [0.19365747, 0.41176164, 0.3858616 ],\n",
       "       [0.20289554, 0.4187912 , 0.3789243 ],\n",
       "       [0.19568655, 0.43475372, 0.35781354],\n",
       "       [0.20257042, 0.43099728, 0.36225465],\n",
       "       [0.19977431, 0.4414995 , 0.34871578],\n",
       "       [0.19158438, 0.4239373 , 0.3744459 ],\n",
       "       [0.20160803, 0.38509858, 0.40916687],\n",
       "       [0.19441216, 0.45291114, 0.34294093],\n",
       "       [0.19910488, 0.42419446, 0.3730985 ],\n",
       "       [0.20584276, 0.41686887, 0.37490916],\n",
       "       [0.20163192, 0.43927762, 0.35661748],\n",
       "       [0.19861908, 0.41102362, 0.38194308],\n",
       "       [0.20005392, 0.34831113, 0.46479166],\n",
       "       [0.19721222, 0.351136  , 0.46130267],\n",
       "       [0.19789138, 0.3824245 , 0.41413048],\n",
       "       [0.19790553, 0.43820247, 0.35865924],\n",
       "       [0.212755  , 0.4287985 , 0.3617339 ],\n",
       "       [0.19630696, 0.44959572, 0.3439211 ],\n",
       "       [0.19556524, 0.38080248, 0.42509276],\n",
       "       [0.20077065, 0.3967808 , 0.4004508 ],\n",
       "       [0.20405889, 0.40078917, 0.399646  ],\n",
       "       [0.19743618, 0.44788364, 0.34115276],\n",
       "       [0.2044441 , 0.35604578, 0.44842473],\n",
       "       [0.20677592, 0.3996992 , 0.3978474 ],\n",
       "       [0.19334757, 0.45318115, 0.34390816],\n",
       "       [0.2003943 , 0.43223912, 0.35709652],\n",
       "       [0.19887823, 0.41925707, 0.37533942],\n",
       "       [0.20404996, 0.39900547, 0.39131203],\n",
       "       [0.19820449, 0.3583359 , 0.45089066],\n",
       "       [0.20033297, 0.44437128, 0.34425128],\n",
       "       [0.20207523, 0.3380272 , 0.48441434],\n",
       "       [0.20000115, 0.44196683, 0.35232994],\n",
       "       [0.19934762, 0.43519825, 0.35922348],\n",
       "       [0.20326714, 0.42754808, 0.36482757],\n",
       "       [0.20198068, 0.3593212 , 0.43993115],\n",
       "       [0.2020029 , 0.42536232, 0.3709084 ],\n",
       "       [0.19720832, 0.4336175 , 0.35756055],\n",
       "       [0.20895736, 0.35553256, 0.44798765],\n",
       "       [0.19425668, 0.45495826, 0.33653194],\n",
       "       [0.19358243, 0.3778614 , 0.42395613],\n",
       "       [0.20440297, 0.4008991 , 0.39125648],\n",
       "       [0.20237103, 0.43606678, 0.3608856 ],\n",
       "       [0.20156908, 0.42688492, 0.36697313],\n",
       "       [0.20361044, 0.34348708, 0.47649583],\n",
       "       [0.19269301, 0.43661633, 0.3567722 ],\n",
       "       [0.20322406, 0.43674308, 0.362686  ],\n",
       "       [0.20934995, 0.4170518 , 0.37200978],\n",
       "       [0.20314856, 0.43452665, 0.355363  ],\n",
       "       [0.19643615, 0.42309535, 0.3727099 ],\n",
       "       [0.19916117, 0.44666004, 0.35320538],\n",
       "       [0.20146742, 0.3497882 , 0.46385962],\n",
       "       [0.19506548, 0.42981327, 0.36522895],\n",
       "       [0.20744422, 0.41956526, 0.3747974 ],\n",
       "       [0.19733249, 0.34475258, 0.47448123],\n",
       "       [0.20794246, 0.43535924, 0.35498804],\n",
       "       [0.197258  , 0.4348114 , 0.35552984],\n",
       "       [0.19278967, 0.4318746 , 0.36439195],\n",
       "       [0.19754975, 0.4472484 , 0.3511587 ],\n",
       "       [0.20560502, 0.40686455, 0.38470018],\n",
       "       [0.19289446, 0.43988848, 0.3558614 ],\n",
       "       [0.2088469 , 0.39413276, 0.39373946],\n",
       "       [0.19826382, 0.43316698, 0.36008295],\n",
       "       [0.19943543, 0.4389772 , 0.35097677],\n",
       "       [0.20494992, 0.42935383, 0.3612724 ],\n",
       "       [0.20636925, 0.4291899 , 0.36639866],\n",
       "       [0.20421675, 0.38763106, 0.40678895],\n",
       "       [0.20231527, 0.33934093, 0.48379597]], dtype=float32)"
      ]
     },
     "execution_count": 11,
     "metadata": {},
     "output_type": "execute_result"
    }
   ],
   "source": [
    "prediction = model.predict(x_test, batch_size=1024)\n",
    "prediction"
   ]
  },
  {
   "cell_type": "code",
   "execution_count": 17,
   "metadata": {},
   "outputs": [
    {
     "data": {
      "text/plain": [
       "340                                                                                                                                                                                        @RealJamesWoods So car fatalities exceed gun fatalities by a factor of 3 to 1. We should therefore get rid of cars before we get rid of guns! \n",
       "341     @NMPGVnow @SUPGVNetwork @EndNRA @CSGV @DamonForNM @SFPSdistrict Seems self destructive if rejecting money for the air rifle team, which teaches that traditional gun safety and marksmanship is important whereas idiotic pronouncements from wayne lapierre and dana loesch should be ignored. @NRA @DrCrifasi @DanielWWebster1 \n",
       "342                                                                                                                                           @michaelianblack This proves that a hand gun didn’t mow down many. shot 3 that survived yes a tragedy but not a massacre if she had an AR-15 many would have died like the other shootings \n",
       "343                                                                                                                                                                                         @proud_resist @davidhogg111 @kelliump Thats right David! We are with you, not going ANYWHERE! (will be going to vote the gun nuts out tho) ? \n",
       "344                                                                                                                                                          Trump offered thoughts &amp; prayers to the victims of the You tube shooting. Please, this is another gun shooting. If the gun was not there nobody would be dead. #banguns \n",
       "345                                                                                                                                                                                               @michellemalkin I thought it was a trans white male, NRA gun toting, Bible thumping, conservative!  I heard it on CNN.  It’s the truth \n",
       "346                                       @MarkDice Lol , what’s sad and frustrating is that the left is still going to blame the NRA and law abiding gun owners. What’s even worse is that ignorant and small minded Americans will ignore the facts of this shooting and continue to repeat the lies of the left. I’m tired of the BS. \n",
       "347                                                                                                                                                                                           Florida = self absorbed women, retarded niggas, white people with loose gun laws, Hispanics that think their black. I’m not making this up \n",
       "348                                                                                                                                                                                                                    Looks like u got ur wish NRA.  America: u ok with wishes and results to wishes like this? https://t.co/m895L4w5QR \n",
       "349                                                                                                                                                                                                                                 @danky_booce @gubatron @BridgetteWest @Lyricoldrap @YouTube I just saw, let the gun blame game begin \n",
       "350                                                                                                                                                                                                                                @_shinobipam Smfh niggas love doing dumb shit cus if u don’t know how to handle a gun why is u trying \n",
       "351                                                                                                                                                                                                                                                       @Spacekatgal @NRA Hello I am a real person who is opposed gun control, thanks! \n",
       "352                                                                                                                                                               I will save the Gun Owners Party time as they are busy checking their checking accounts for their monthly NRA deposit. “Thoughts and Prayers “ https://t.co/YU9ygPiCFL \n",
       "353                                                                    @Romans56thru8 @DennisRadcliff3 @keepwhistling @LuvMultimedia @NRATV The point is that a 5 year old can (and do) kill people easily with a gun.  A scrawny teenager can easily do a mass murder.  There’s a reason Marines use guns.  Let’s not conflate the two. \n",
       "354                                                                                                                                                                                                                                             I'm not a big gun guy but these dueling pistols were beautiful.… https://t.co/WWeJb6ndvw \n",
       "355                                                                                                                                @zwip778 @gamblinflanagan @MattxRed @davidhogg111 Yes. However, when the fbi shows up, what are the odds it'll do any good? 2a folx like to talk tough, but aren't the people the cops want to shoot. \n",
       "356                                                                                                                    Mental illness is not the problem in gun violence. Mentally ill should have guns. Those who have a history of violence or violent references should be denied guns. There are signs that someone will be violent. \n",
       "357                                                                                                                                                                                  @JaclynCorin Love the Vote stickers! With our votes, perhaps we can do something more than clear backpacks to address the gun addiction in America. \n",
       "358                             Terrorism isn’t the only thing that involves gun violence it’s getting shot on the street, a child accidentally shooting his sister or himself with a gun laying on the counter. And 4,800 households out of 126 million is not even close to 1%. A extremely uncommon situation https://t.co/lGPJnZECgQ \n",
       "359                                                                                                                                                                                                                                                       @JonathanMerritt I love my fire arms.I will fight to keep them no matter what. \n",
       "360                                                                                                                                                                                                                                                         Shoot them if they break the law we would terrorists https://t.co/JhROevgY8q \n",
       "361                                @Emma4Change @MikeBloomberg Background checks! Healthy people who need medication to maintain mental health shouldn't be able to buy guns. If diagnosed w/any condition on \"Timothy's Law\" you shouldn't be allowed to buy a gun even healthy by successful med treatment no matter if you are a nun. \n",
       "362                                                                               @rdcaccavale @larryelder Humorous how a bunch of teens has so many adults actually concerned. Then again those fearing confiscation of their firearms are also applauding Trump's misguided announcement that he's sending the military to the border. \n",
       "363                                                                                                                                                                   ? The adults better step up pretty quick and take charge ?‍♀️ before the #1stResponders are neutered and under siege themselves #CA ?‍♀️ ? https://t.co/nVc7oZ3Ax8 \n",
       "364                                                                        Those who show signs of gun violence before it happens must be reported to the police. However you can have a mental illness and not be violent. So I think those with a mental illness who are not violent and have no history of violence should have guns. \n",
       "365                                                                                                                                                                                                                                       Thanks Dems , U incresed sales with anti-gun takk. We will fire U soon https://t.co/RSJaOVhDRP \n",
       "366                                                                                                                                                                                                                                                                                          Absolutely sick NRA https://t.co/zwBkkC1yWP \n",
       "367                                                                                                                                                                                                                                                                                                 I’m laurens favorite shot gun rider? \n",
       "368                                                                                                                                                                                                                                                ...But it’s the gun advocates that are the sociopaths. Right. https://t.co/2kfLGZLmkz \n",
       "369                                                       You know what I think is the core of this debate? How many people are SO SURE they are going to be murdered by a predator. I have lived my 28 years of life on this earth constantly thinking that someone is going to kick down my door and murder me with a machine gun. #2A \n",
       "                                                                                                                                                                      ...                                                                                                                                                                \n",
       "391                                                                                                                                                                                          #BoycottNRA #NeverAgain #BanAssaultWeapons #BanBumpStocks #NoGunsforTeachers #RaiseMinimumAge #BoycottNRASponsors ? https://t.co/FXGfA39Nrk \n",
       "392                                                                                                                            @samfoof @NancyPelosi That is really going to help. NRA needs to join in asking responsible gun owners to set the example. Background checks, licensing and training when purchasing a gun. No loopholes. \n",
       "393                                                                                                                                                                                                                                                                                   Where did she get the gun? https://t.co/s0l6xj2kZA \n",
       "394                                                                                                                                                                                                                                          Photo of NRA bots calling me a spic the minute I demand gun control https://t.co/ts2RplbrVb \n",
       "395                                     @realdotsevenjay @erieboy4sho @honeyyyyyy_B @queen_chachi_ Not only that you see guy in the back turn the safety off in the video. And see him nod and she shoots a millisecond later. Also if there was no clip or bullet the gun would not have sounded the way it did when she cocked it back \n",
       "396                                                                                     @EvieJ_93 I hear you cuz, I really do, I also agree with you.. but there’s millions of guns here and it only takes one bullet to do damage.. I can’t see the laws changing a crazy person’s mind from finding a gun and causing another tragedy. \n",
       "397                                                                                                                                                                                                                                                                                   #YouTubeHQ #youtubeshooter https://t.co/ZI4Rb9FaPw \n",
       "398                                                                Growing up during the gun recall in Australia, gun control has always made sense to me. However until today I've had the privilege of being able to distance myself from the problem in America. Something needs to be done. No handguns. No semi-automatics. Enough. \n",
       "399                                                                                       @BreitbartNews @KendraVondersa3 Don't  be a victim you are the person responsible for your safety. Buy a gun get trained and carry.This is the only way to end these active shooter situations quickly with less loss of life.#NRA #JoinTheNRA \n",
       "400                                                                                          Why oh why do they find it necessary to bring  out the black haired  idiot box when this kind of situations happen. At first when I heard the gunman was a female,I quickly thought it was @DLoesch  but it wasn't. https://t.co/YJ2de3pTkY \n",
       "401                                                                                                                   @JerashkimBrown @MoveOn @marcorubio @realDonaldTrump @NRA @thehill @politico @rollcall @cspan @GOPLeader LiberLou blames the GUN instead of Law enforcement and Mental illness. Your wasting your time lunnyloulou \n",
       "402                                                                                                                                                                                                                          Stand down everyone. It’s ok. She “chose” a hand gun, not an AR-15. #YouTubeshooter https://t.co/besOn727SX \n",
       "403                                                                                                  Ok but just for a second can we ponder who the fuck needs a gun at a gay wedding? Like it’s gonna be a fucking party and y’all need a deadly weapon? Like I know we dramatic but take it down a notch Gary. https://t.co/g6QgbQrzMp \n",
       "404                                                                                                                                                                                                                                                                           Fuck sending love.  #GunControlNow https://t.co/AMcbmztG6v \n",
       "405                                                                                                                                                                                                                              GuN cONtRoL iS sTILl NoT a NEcESsiTY iN AmEriCA. LaNd Of tHE FrEe aNd HOmE oF tHe BrAVe... Am I RiGht!? \n",
       "406                                                                  @GirlTrumps @GeorgiaDirtRoad Not the same situation by any means, but we viewed our stillborn grandson, and it was a freak of nature thing. Hard enough to see, but to see one who was murdered? Didn't you want to just shoot this man? That's why ppl go haywire! \n",
       "407                                                                                                                                                                                                                                                                                                                 @quinncy With a gun. \n",
       "408                                          California look at your strictest gun laws and tell me. Do you really think more &amp; more are going to prevent other incidents from happening? These States are a joke. Including my own. I saw 1st hand weapons ban &amp; more laws don’t work. If not a gun. A hammer. If not that? A/? \n",
       "409                                                                                                      Besides working together to end gun violence, school administrators have made parents pay for see through backpacks. This does not prevent gun violence. This is the cheap way out. #NeverAgain #Enough https://t.co/s92V8Q7Mr7 \n",
       "410                                            As a gun violence survivor, I support changes in regulation. I hope this vid continues the effort. Thanks @Sarahchadwickk @Emma4Change @1SecondEveryday @CesarKuriyama &amp; @Lin_Manuel for inspiration.    Gun Violence Anthem https://t.co/fuFjOJmVDZ via @YouTube #enough #neveragain \n",
       "411                                                                                                         @JordanSchachtel Uhm, if she had used lab test animals to attack her victims, yes absolutely. Also, nobody is against NRA members. We are against gun nuts, which most NRA members aren't. Most NRA members want #guncontrol \n",
       "412                                                                                                                                                                                      @President45US @DukeofEarlDD Tuff gun laws there this must be fake news.  Surely with strick gunmlaw even lawless people don't have them right? \n",
       "413                                                                                                                                            I like that righting nut jobs on Twitter seem to think gun control activists won’t call for gun control if an active shooter wasn’t a white male. The common denominator is guns, idiots. \n",
       "414                                                                                                                                                                                                                        @realDonaldTrump No more thoughts and prayers. If you really feel bad about it, do something for gun control. \n",
       "415                                                                  @RealJack @village_jordan Gun Control is working as planned in London. They have more murders than NYC (and that is NOT counting the reoccurring Terrorist Murders in London). Most murders are now done by knife in London. Personally, I would prefer to be shot. \n",
       "416                                                                                                                                 @Neely916 @CollinRugg I’m not an expert in guns but couldn’t you use a hunting rifle for hunting, a handgun for protection? The gun you use for competition shooting could be stored at a gun range? \n",
       "417                                                                                                  @MerriamWebster Your shameless re-definition of \"assault rifle\" is obscene, politically motivated and completely unacceptable. Use the correct definition please. Eliminate this #Liberal LIE: https://t.co/V0UXj8EFgW @NRA @GOA RT \n",
       "418                                                                                                  If you only expressed outrage after you found out the name of the shooter at YouTube HQ is Nasim Aghdam &amp; aren’t outraged at America’s lax gun laws that lead thousands of innocent deaths a year, you’re apart of the problem. \n",
       "419                                                                                                                                                                                                                                                            Two tweets on my TL of why we need gun control!!! https://t.co/GnLJhAuzYh \n",
       "420                                                                                                                                                                                                                                                                                                       Lol @ California’s gun control \n",
       "Name: Tweet, Length: 81, dtype: object"
      ]
     },
     "execution_count": 17,
     "metadata": {},
     "output_type": "execute_result"
    }
   ],
   "source": [
    "pd.options.display.max_colwidth = 1000\n",
    "testing['Tweet']"
   ]
  },
  {
   "cell_type": "code",
   "execution_count": null,
   "metadata": {
    "collapsed": true
   },
   "outputs": [],
   "source": []
  }
 ],
 "metadata": {
  "kernelspec": {
   "display_name": "Python 3",
   "language": "python",
   "name": "python3"
  },
  "language_info": {
   "codemirror_mode": {
    "name": "ipython",
    "version": 3
   },
   "file_extension": ".py",
   "mimetype": "text/x-python",
   "name": "python",
   "nbconvert_exporter": "python",
   "pygments_lexer": "ipython3",
   "version": "3.6.4"
  }
 },
 "nbformat": 4,
 "nbformat_minor": 2
}
