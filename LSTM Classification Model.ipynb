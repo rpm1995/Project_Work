{
 "cells": [
  {
   "cell_type": "code",
   "execution_count": 26,
   "metadata": {},
   "outputs": [],
   "source": [
    "import pandas as pd\n",
    "import numpy as np\n",
    "\n",
    "from keras.preprocessing import sequence\n",
    "from keras.models import Sequential, Model\n",
    "from keras.layers import LSTM, Dense, Embedding, Input, Dropout, Activation, GlobalMaxPool1D\n",
    "from keras.preprocessing.text import Tokenizer\n",
    "from keras.preprocessing.sequence import pad_sequences"
   ]
  },
  {
   "cell_type": "code",
   "execution_count": 27,
   "metadata": {},
   "outputs": [
    {
     "data": {
      "text/html": [
       "<div>\n",
       "<style>\n",
       "    .dataframe thead tr:only-child th {\n",
       "        text-align: right;\n",
       "    }\n",
       "\n",
       "    .dataframe thead th {\n",
       "        text-align: left;\n",
       "    }\n",
       "\n",
       "    .dataframe tbody tr th {\n",
       "        vertical-align: top;\n",
       "    }\n",
       "</style>\n",
       "<table border=\"1\" class=\"dataframe\">\n",
       "  <thead>\n",
       "    <tr style=\"text-align: right;\">\n",
       "      <th></th>\n",
       "      <th>Tweet</th>\n",
       "      <th>For guns?</th>\n",
       "      <th>Location</th>\n",
       "      <th>For guns</th>\n",
       "      <th>Against guns</th>\n",
       "      <th>Makes no sense</th>\n",
       "    </tr>\n",
       "  </thead>\n",
       "  <tbody>\n",
       "    <tr>\n",
       "      <th>0</th>\n",
       "      <td>@Mary_rnntt2 @lauren_hoggs You're blinded by y...</td>\n",
       "      <td>0.0</td>\n",
       "      <td>Mountain Lakes, NJ</td>\n",
       "      <td>0</td>\n",
       "      <td>1</td>\n",
       "      <td>0</td>\n",
       "    </tr>\n",
       "    <tr>\n",
       "      <th>1</th>\n",
       "      <td>Hey #MNLEG, don’t be idiotic. gun laws, not pa...</td>\n",
       "      <td>0.0</td>\n",
       "      <td>Minneapolis, MN</td>\n",
       "      <td>0</td>\n",
       "      <td>1</td>\n",
       "      <td>0</td>\n",
       "    </tr>\n",
       "    <tr>\n",
       "      <th>2</th>\n",
       "      <td>Gun owners, women, kids, all opposed to the ab...</td>\n",
       "      <td>0.0</td>\n",
       "      <td>Houston, TX</td>\n",
       "      <td>0</td>\n",
       "      <td>1</td>\n",
       "      <td>0</td>\n",
       "    </tr>\n",
       "    <tr>\n",
       "      <th>3</th>\n",
       "      <td>@PhilipRucker Is he taking guns away from ment...</td>\n",
       "      <td>0.0</td>\n",
       "      <td>Broomall, PA</td>\n",
       "      <td>0</td>\n",
       "      <td>1</td>\n",
       "      <td>0</td>\n",
       "    </tr>\n",
       "    <tr>\n",
       "      <th>4</th>\n",
       "      <td>Blissfully unaware that it’s too late: Califor...</td>\n",
       "      <td>1.0</td>\n",
       "      <td>Teaneck, NJ</td>\n",
       "      <td>1</td>\n",
       "      <td>0</td>\n",
       "      <td>0</td>\n",
       "    </tr>\n",
       "  </tbody>\n",
       "</table>\n",
       "</div>"
      ],
      "text/plain": [
       "                                               Tweet  For guns?  \\\n",
       "0  @Mary_rnntt2 @lauren_hoggs You're blinded by y...        0.0   \n",
       "1  Hey #MNLEG, don’t be idiotic. gun laws, not pa...        0.0   \n",
       "2  Gun owners, women, kids, all opposed to the ab...        0.0   \n",
       "3  @PhilipRucker Is he taking guns away from ment...        0.0   \n",
       "4  Blissfully unaware that it’s too late: Califor...        1.0   \n",
       "\n",
       "             Location  For guns  Against guns  Makes no sense  \n",
       "0  Mountain Lakes, NJ         0             1               0  \n",
       "1     Minneapolis, MN         0             1               0  \n",
       "2         Houston, TX         0             1               0  \n",
       "3        Broomall, PA         0             1               0  \n",
       "4         Teaneck, NJ         1             0               0  "
      ]
     },
     "execution_count": 27,
     "metadata": {},
     "output_type": "execute_result"
    }
   ],
   "source": [
    "dataset = 'C://Users//H//Desktop//Spring18//-AdvancedDatabases//Project//Project_Work//final_dataset.csv'\n",
    "data = pd.read_csv(dataset, encoding='utf-8-sig')\n",
    "data.head()"
   ]
  },
  {
   "cell_type": "code",
   "execution_count": 28,
   "metadata": {},
   "outputs": [],
   "source": [
    "training = data.iloc[:340]\n",
    "testing = data.iloc[340:]"
   ]
  },
  {
   "cell_type": "code",
   "execution_count": 42,
   "metadata": {},
   "outputs": [],
   "source": [
    "labels = ['For guns', 'Against guns', 'Makes no sense']\n",
    "features_train = training[labels].values\n",
    "features_test = testing[labels].values\n",
    "tweet_train = training['Tweet']\n",
    "tweet_test = testing['Tweet']"
   ]
  },
  {
   "cell_type": "code",
   "execution_count": 43,
   "metadata": {
    "collapsed": true
   },
   "outputs": [],
   "source": [
    "max_words = 20000\n",
    "chunk_size = 200"
   ]
  },
  {
   "cell_type": "code",
   "execution_count": 44,
   "metadata": {
    "collapsed": true
   },
   "outputs": [],
   "source": [
    "# Converting Tweets to Embeddings\n",
    "def convert_embedding(text):\n",
    "    tokenizer = Tokenizer(num_words=max_words)\n",
    "    tokenizer.fit_on_texts(list(text))\n",
    "    tokenized = tokenizer.texts_to_sequences(text)\n",
    "    embedding = pad_sequences(tokenized, maxlen=chunk_size)   # Every Tweet is represented by vector of length 200\n",
    "    return embedding"
   ]
  },
  {
   "cell_type": "code",
   "execution_count": 45,
   "metadata": {},
   "outputs": [],
   "source": [
    "x_train = convert_embedding(tweet_train)\n",
    "x_test = convert_embedding(tweet_test)"
   ]
  },
  {
   "cell_type": "code",
   "execution_count": 37,
   "metadata": {},
   "outputs": [
    {
     "name": "stdout",
     "output_type": "stream",
     "text": [
      "Building LSTM\n"
     ]
    }
   ],
   "source": [
    "print(\"Building LSTM\")\n",
    "model = Sequential()\n",
    "model.add(Embedding(max_words, 128))\n",
    "model.add(LSTM(128, dropout=0.2, recurrent_dropout=0.2))\n",
    "model.add(Dense(3, activation='sigmoid'))\n",
    "model.compile(loss='binary_crossentropy', optimizer='adam', metrics=['accuracy'])"
   ]
  },
  {
   "cell_type": "code",
   "execution_count": 39,
   "metadata": {},
   "outputs": [
    {
     "name": "stdout",
     "output_type": "stream",
     "text": [
      "Training LSTM\n",
      "Train on 306 samples, validate on 34 samples\n",
      "Epoch 1/20\n",
      "306/306 [==============================] - 3s 11ms/step - loss: 0.5624 - acc: 0.7113 - val_loss: 0.6313 - val_acc: 0.6765\n",
      "Epoch 2/20\n",
      "306/306 [==============================] - 3s 11ms/step - loss: 0.5186 - acc: 0.7702 - val_loss: 0.6170 - val_acc: 0.6667\n",
      "Epoch 3/20\n",
      "306/306 [==============================] - 3s 11ms/step - loss: 0.4540 - acc: 0.7930 - val_loss: 0.6201 - val_acc: 0.6275\n",
      "Epoch 4/20\n",
      "306/306 [==============================] - 3s 11ms/step - loss: 0.3719 - acc: 0.8453 - val_loss: 0.6098 - val_acc: 0.6373\n",
      "Epoch 5/20\n",
      "306/306 [==============================] - 3s 11ms/step - loss: 0.2915 - acc: 0.8932 - val_loss: 0.6875 - val_acc: 0.6667\n",
      "Epoch 6/20\n",
      "306/306 [==============================] - 3s 11ms/step - loss: 0.2221 - acc: 0.9172 - val_loss: 0.7827 - val_acc: 0.6765\n",
      "Epoch 7/20\n",
      "306/306 [==============================] - 3s 11ms/step - loss: 0.1585 - acc: 0.9499 - val_loss: 0.6779 - val_acc: 0.7353\n",
      "Epoch 8/20\n",
      "306/306 [==============================] - 3s 11ms/step - loss: 0.1267 - acc: 0.9728 - val_loss: 0.9276 - val_acc: 0.6373\n",
      "Epoch 9/20\n",
      "306/306 [==============================] - 3s 11ms/step - loss: 0.0929 - acc: 0.9847 - val_loss: 0.7394 - val_acc: 0.6471\n",
      "Epoch 10/20\n",
      "306/306 [==============================] - 3s 11ms/step - loss: 0.0531 - acc: 0.9946 - val_loss: 1.1291 - val_acc: 0.6275\n",
      "Epoch 11/20\n",
      "306/306 [==============================] - 3s 11ms/step - loss: 0.0282 - acc: 0.9946 - val_loss: 1.0403 - val_acc: 0.6863\n",
      "Epoch 12/20\n",
      "306/306 [==============================] - 4s 12ms/step - loss: 0.0427 - acc: 0.9913 - val_loss: 0.9780 - val_acc: 0.6765\n",
      "Epoch 13/20\n",
      "306/306 [==============================] - 3s 11ms/step - loss: 0.0227 - acc: 0.9967 - val_loss: 0.8485 - val_acc: 0.6667\n",
      "Epoch 14/20\n",
      "306/306 [==============================] - 3s 11ms/step - loss: 0.0209 - acc: 0.9978 - val_loss: 0.9841 - val_acc: 0.6765\n",
      "Epoch 15/20\n",
      "306/306 [==============================] - 4s 12ms/step - loss: 0.0148 - acc: 0.9978 - val_loss: 1.0770 - val_acc: 0.6667\n",
      "Epoch 16/20\n",
      "306/306 [==============================] - 4s 12ms/step - loss: 0.0140 - acc: 0.9978 - val_loss: 1.2277 - val_acc: 0.6765\n",
      "Epoch 17/20\n",
      "306/306 [==============================] - 4s 12ms/step - loss: 0.0157 - acc: 0.9967 - val_loss: 0.9973 - val_acc: 0.6863\n",
      "Epoch 18/20\n",
      "306/306 [==============================] - 4s 12ms/step - loss: 0.0156 - acc: 0.9978 - val_loss: 1.0253 - val_acc: 0.6471\n",
      "Epoch 19/20\n",
      "306/306 [==============================] - 4s 13ms/step - loss: 0.0107 - acc: 0.9978 - val_loss: 1.1945 - val_acc: 0.6176\n",
      "Epoch 20/20\n",
      "306/306 [==============================] - 4s 12ms/step - loss: 0.0100 - acc: 0.9978 - val_loss: 1.0977 - val_acc: 0.6569\n"
     ]
    },
    {
     "data": {
      "text/plain": [
       "<keras.callbacks.History at 0x22e968f4630>"
      ]
     },
     "execution_count": 39,
     "metadata": {},
     "output_type": "execute_result"
    }
   ],
   "source": [
    "print(\"Training LSTM\")\n",
    "model.fit(x_train, features_train, batch_size=32, epochs=20, validation_split=0.1)"
   ]
  },
  {
   "cell_type": "code",
   "execution_count": 47,
   "metadata": {},
   "outputs": [
    {
     "name": "stdout",
     "output_type": "stream",
     "text": [
      "Train on 340 samples, validate on 81 samples\n",
      "Epoch 1/5\n",
      "340/340 [==============================] - 4s 11ms/step - loss: 0.6822 - acc: 0.6196 - val_loss: 0.6660 - val_acc: 0.6667\n",
      "Epoch 2/5\n",
      "340/340 [==============================] - 3s 8ms/step - loss: 0.6350 - acc: 0.6686 - val_loss: 0.6371 - val_acc: 0.6667\n",
      "Epoch 3/5\n",
      "340/340 [==============================] - 3s 8ms/step - loss: 0.6208 - acc: 0.6667 - val_loss: 0.6117 - val_acc: 0.6667\n",
      "Epoch 4/5\n",
      "340/340 [==============================] - 3s 8ms/step - loss: 0.6121 - acc: 0.6667 - val_loss: 0.6029 - val_acc: 0.6667\n",
      "Epoch 5/5\n",
      "340/340 [==============================] - 3s 8ms/step - loss: 0.5970 - acc: 0.6676 - val_loss: 0.6005 - val_acc: 0.6667\n"
     ]
    },
    {
     "data": {
      "text/plain": [
       "<keras.callbacks.History at 0x22ea9097390>"
      ]
     },
     "execution_count": 47,
     "metadata": {},
     "output_type": "execute_result"
    }
   ],
   "source": [
    "inp = Input(shape=(chunk_size, ))\n",
    "embed_size = 128\n",
    "x1 = Embedding(max_words, embed_size)(inp)\n",
    "x1 = LSTM(60, return_sequences=True, name='lstm_layer')(x1)\n",
    "x1 = GlobalMaxPool1D()(x1)\n",
    "# x1 = Dropout(0.1)(x1)\n",
    "x1 = Dense(50, activation='relu')(x1)\n",
    "x1 = Dropout(0.1)(x1)\n",
    "x1 = Dense(3, activation='sigmoid')(x1)\n",
    "model = Model(inputs=inp, outputs=x1)\n",
    "model.compile(loss='binary_crossentropy', optimizer='adam', metrics=['accuracy'])\n",
    "model.fit(x_train, features_train, epochs=5, batch_size=32, validation_data=(x_test, features_test))"
   ]
  },
  {
   "cell_type": "code",
   "execution_count": null,
   "metadata": {
    "collapsed": true
   },
   "outputs": [],
   "source": []
  }
 ],
 "metadata": {
  "kernelspec": {
   "display_name": "Python 3",
   "language": "python",
   "name": "python3"
  },
  "language_info": {
   "codemirror_mode": {
    "name": "ipython",
    "version": 3
   },
   "file_extension": ".py",
   "mimetype": "text/x-python",
   "name": "python",
   "nbconvert_exporter": "python",
   "pygments_lexer": "ipython3",
   "version": "3.6.2"
  }
 },
 "nbformat": 4,
 "nbformat_minor": 2
}
