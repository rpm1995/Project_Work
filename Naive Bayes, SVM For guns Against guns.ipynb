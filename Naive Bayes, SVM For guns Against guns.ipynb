{
 "cells": [
  {
   "cell_type": "code",
   "execution_count": 58,
   "metadata": {},
   "outputs": [],
   "source": [
    "import pandas as pd\n",
    "import numpy as np\n",
    "from sklearn.feature_extraction.text import CountVectorizer, TfidfTransformer\n",
    "from sklearn.naive_bayes import MultinomialNB\n",
    "from sklearn.linear_model import SGDClassifier\n",
    "from sklearn import svm"
   ]
  },
  {
   "cell_type": "code",
   "execution_count": 43,
   "metadata": {
    "collapsed": true
   },
   "outputs": [],
   "source": [
    "dataset = 'C://Users//H//Desktop//Spring18//-AdvancedDatabases//Project//Project_Work//final_binary_dataset.csv'\n",
    "data = pd.read_csv(dataset, encoding='utf-8-sig')"
   ]
  },
  {
   "cell_type": "code",
   "execution_count": 78,
   "metadata": {},
   "outputs": [
    {
     "name": "stdout",
     "output_type": "stream",
     "text": [
      "129\n",
      "71\n",
      "142\n",
      "                                                 Tweet  For guns?  \\\n",
      "0    @Mary_rnntt2 @lauren_hoggs You're blinded by y...        0.0   \n",
      "1    Hey #MNLEG, don’t be idiotic. gun laws, not pa...        0.0   \n",
      "2    Gun owners, women, kids, all opposed to the ab...        0.0   \n",
      "3    @PhilipRucker Is he taking guns away from ment...        0.0   \n",
      "9    White House vows to help arm teachers and back...        0.0   \n",
      "10   @realDonaldTrump\\r\\r\\r\\r\\nlies, like other peo...        0.0   \n",
      "15   Whatever helps the @NRA sell more guns.\\r\\r\\r\\...        0.0   \n",
      "18   @matthewamiller Let’s  allow all persons age 1...        0.0   \n",
      "19   Things white folks talk about a lot. \\r\\r\\r\\r\\...        0.0   \n",
      "21   Ideally a safety plan should be able to includ...        0.0   \n",
      "22   @CNNPolitics @cnnbrk RETURN TO SENDER: IN THE ...        0.0   \n",
      "23    The @NRA is to Trump what the SS was to Hitler.         0.0   \n",
      "24   When will people realizing that giving guns to...        0.0   \n",
      "25   Interesting that the worst thing Trump could s...        0.0   \n",
      "26   Some pretty awful images of both Clinton’s and...        0.0   \n",
      "27   @davidhogg111 @graywolf I’m a 60 year old reti...        0.0   \n",
      "28   Changing gun laws would have done and can do a...        0.0   \n",
      "29   @EricMGarcia Confirmed by 1 vote margin, or wa...        0.0   \n",
      "30   @jeffgoldesq Help is on the way.  No more danc...        0.0   \n",
      "31   Statistics show that about 15 students per wee...        0.0   \n",
      "33   This is unbelievable...a “so called” Christian...        0.0   \n",
      "35   A kid DID JUST THAT at my kids high school ear...        0.0   \n",
      "40   #PresidentBoneSpur #cowardice is in full view ...        0.0   \n",
      "41   @marcorubio @POTUS @realDonaldTrump Why do we ...        0.0   \n",
      "43   Can someone please tell me why #vaginas are mo...        0.0   \n",
      "45   do u think we could get them to raise the mini...        0.0   \n",
      "46   Trump has just flipped America off with his tw...        0.0   \n",
      "47   Right, lets arm these Barney Fife wannabes and...        0.0   \n",
      "48   @LociPanda Guns save more lives a year than th...        0.0   \n",
      "49   @CoryGardner MUST GO! \\r\\r\\r\\r\\n#VoteThemOut \\...        0.0   \n",
      "..                                                 ...        ...   \n",
      "116  @AZEricka @DoctorShimapan @neontaster So it sh...        1.0   \n",
      "123  @teemcee @DwyaneWade @carmeloanthony Please te...        1.0   \n",
      "127  @Education4Libs So do drug overdoses!   More t...        1.0   \n",
      "128  Maybe there’s a thing called the 2nd amendment...        1.0   \n",
      "134  @BernieSanders Fight back Arizona lead our cou...        1.0   \n",
      "135  @realDonaldTrump  You can not take away the gu...        1.0   \n",
      "139  LOL a protest while everyone is at work, at 10...        1.0   \n",
      "150  “Calm down... nobody is trying to take your gu...        1.0   \n",
      "152  Reversing climate change. Protection for Dream...        1.0   \n",
      "153  @RealJamesWoods @madd I admire your dedication...        1.0   \n",
      "155           @Liz_Wheeler No gun control is necessary        1.0   \n",
      "160  @cnnbrk HELLO THE REPUBLAINS ARE GOING TOO WIN...        1.0   \n",
      "162  @cnnbrk HELLO WE NEED GUNS IN SCHOOLS ALSO FOR...        1.0   \n",
      "164                                  #JOINTHENRATODAY         1.0   \n",
      "165  Wants guns banned, wears armbands, looks like ...        1.0   \n",
      "169   @hrenee80 @GrizzleMeister Indeed Heather:. So...        1.0   \n",
      "171   @SenFeinstein So, how did this women get a gu...        1.0   \n",
      "173   @Ohfairmaiden @BallingerMom Gun ownership is ...        1.0   \n",
      "176   @jackKrei @Gonzobaggins @Monty4x4 @summer7570...        1.0   \n",
      "177   Okay, okay, I’m legitimately impressed by thi...        1.0   \n",
      "178   @Education4Libs It just shows them to be fool...        1.0   \n",
      "179   @dangercusmatt @jaraybrooks @JBrooks191 @Shaf...        1.0   \n",
      "181   Youtube Shooting Witness: “I Didn’t Have A Gu...        1.0   \n",
      "184   @NinaCruzShow Meanwhile other teens are chang...        1.0   \n",
      "186   The great thing anti gunners don't get is thi...        1.0   \n",
      "187   LMFAO taking away people’s firearms isn’t the...        1.0   \n",
      "188   So, what’s the procedure when you have a gun ...        1.0   \n",
      "192   Cali has the nation’s strictest gun laws but ...        1.0   \n",
      "196   @RealJamesWoods So car fatalities exceed gun ...        1.0   \n",
      "199   @MarkDice Lol , what’s sad and frustrating is...        1.0   \n",
      "\n",
      "                   Location  For guns  Against guns  Makes no sense  \n",
      "0        Mountain Lakes, NJ         0             1               0  \n",
      "1           Minneapolis, MN         0             1               0  \n",
      "2               Houston, TX         0             1               0  \n",
      "3              Broomall, PA         0             1               0  \n",
      "9              Honolulu, HI         0             1               0  \n",
      "10            Southbury, CT         0             1               0  \n",
      "15        San Francisco, CA         0             1               0  \n",
      "18             Dearborn, MI         0             1               0  \n",
      "19             Stoneham, MA         0             1               0  \n",
      "21         Philadelphia, PA         0             1               0  \n",
      "22          Miami Beach, FL         0             1               0  \n",
      "23              Phoenix, AZ         0             1               0  \n",
      "24        Pennsylvania, USA         0             1               0  \n",
      "25       Scott Township, PA         0             1               0  \n",
      "26          Los Angeles, CA         0             1               0  \n",
      "27          Centerville, OH         0             1               0  \n",
      "28         Philadelphia, PA         0             1               0  \n",
      "29               Austin, TX         0             1               0  \n",
      "30                Davis, CA         0             1               0  \n",
      "31               Powell, OH         0             1               0  \n",
      "33             Florida, USA         0             1               0  \n",
      "35                 Galt, CA         0             1               0  \n",
      "40                 Napa, CA         0             1               0  \n",
      "41                 Iona, FL         0             1               0  \n",
      "43            Princeton, NJ         0             1               0  \n",
      "45             Richmond, CA         0             1               0  \n",
      "46              Wayland, MI         0             1               0  \n",
      "47              Webster, NY         0             1               0  \n",
      "48        Pennsylvania, USA         0             1               0  \n",
      "49           Southglenn, CO         0             1               0  \n",
      "..                      ...       ...           ...             ...  \n",
      "116             Oregon, USA         1             0               0  \n",
      "123            Florida, USA         1             0               0  \n",
      "127         Los Angeles, CA         1             0               0  \n",
      "128           La Mirada, CA         1             0               0  \n",
      "134               Wayne, NJ         1             0               0  \n",
      "135            Manassas, VA         1             0               0  \n",
      "139  Fishtown, Philadelphia         1             0               0  \n",
      "150          Middletown, CT         1             0               0  \n",
      "152             Ashland, OR         1             0               0  \n",
      "153              Mathis, TX         1             0               0  \n",
      "155              Texas, USA         1             0               0  \n",
      "160            Brighton, NY         1             0               0  \n",
      "162            Brighton, NY         1             0               0  \n",
      "164              Texas, USA         1             0               0  \n",
      "165         Gainesville, FL         1             0               0  \n",
      "169                   Ohio          1             0               0  \n",
      "171             California          1             0               0  \n",
      "173                 Oregon          1             0               0  \n",
      "176               New York          1             0               0  \n",
      "177             Washington          1             0               0  \n",
      "178              Louisiana          1             0               0  \n",
      "179             Washington          1             0               0  \n",
      "181                Florida          1             0               0  \n",
      "184                Arizona          1             0               0  \n",
      "186                Arizona          1             0               0  \n",
      "187                Florida          1             0               0  \n",
      "188                Florida          1             0               0  \n",
      "192                   Ohio          1             0               0  \n",
      "196                Arizona          1             0               0  \n",
      "199                Florida          1             0               0  \n",
      "\n",
      "[142 rows x 6 columns]\n"
     ]
    }
   ],
   "source": [
    "training = data.iloc[: 200]\n",
    "testing = data.iloc[200 :]\n",
    "\n",
    "labels = ['For guns', 'Against guns']\n",
    "features_train = training['For guns'].values\n",
    "features_test = testing['For guns'].values\n",
    "tweet_train = training['Tweet']\n",
    "tweet_test = testing['Tweet']\n",
    "\n",
    "\n",
    "features_train0 = training[training['For guns'] == 0]\n",
    "print(len(features_train0))\n",
    "features_train1 = training[training['For guns'] == 1]\n",
    "print(len((features_train1)))\n",
    "combinedfeaturestrain = features_train0.iloc[: 71]\n",
    "combinedfeaturestrain = combinedfeaturestrain.append(features_train1)\n",
    "print(len(combinedfeaturestrain))\n",
    "print(combinedfeaturestrain)\n",
    "\n",
    "features_train = combinedfeaturestrain['For guns'].values\n",
    "tweet_train = combinedfeaturestrain['Tweet']"
   ]
  },
  {
   "cell_type": "code",
   "execution_count": 79,
   "metadata": {},
   "outputs": [
    {
     "name": "stdout",
     "output_type": "stream",
     "text": [
      "(142, 1359)\n",
      "(49, 1359)\n"
     ]
    }
   ],
   "source": [
    "count_vect = CountVectorizer()\n",
    "X_train_counts = count_vect.fit_transform(tweet_train)\n",
    "X_test_counts = count_vect.transform(tweet_test)\n",
    "print(X_train_counts.shape)\n",
    "print(X_test_counts.shape)"
   ]
  },
  {
   "cell_type": "code",
   "execution_count": 80,
   "metadata": {},
   "outputs": [
    {
     "name": "stdout",
     "output_type": "stream",
     "text": [
      "(142, 1359)\n",
      "(49, 1359)\n"
     ]
    },
    {
     "name": "stderr",
     "output_type": "stream",
     "text": [
      "C:\\ProgramData\\Anaconda3\\lib\\site-packages\\sklearn\\feature_extraction\\text.py:1089: FutureWarning: Conversion of the second argument of issubdtype from `float` to `np.floating` is deprecated. In future, it will be treated as `np.float64 == np.dtype(float).type`.\n",
      "  if hasattr(X, 'dtype') and np.issubdtype(X.dtype, np.float):\n"
     ]
    }
   ],
   "source": [
    "tfidf_transformer = TfidfTransformer()\n",
    "X_train_tfidf = tfidf_transformer.fit_transform(X_train_counts)\n",
    "X_test_tfidf = tfidf_transformer.transform(X_test_counts)\n",
    "print(X_train_tfidf.shape)\n",
    "print(X_test_tfidf.shape)"
   ]
  },
  {
   "cell_type": "code",
   "execution_count": 81,
   "metadata": {},
   "outputs": [],
   "source": [
    "clf = MultinomialNB().fit(X_train_tfidf, features_train)"
   ]
  },
  {
   "cell_type": "code",
   "execution_count": 82,
   "metadata": {},
   "outputs": [],
   "source": [
    "predicted = clf.predict(X_test_tfidf)"
   ]
  },
  {
   "cell_type": "code",
   "execution_count": 83,
   "metadata": {},
   "outputs": [
    {
     "data": {
      "text/plain": [
       "0.46938775510204084"
      ]
     },
     "execution_count": 83,
     "metadata": {},
     "output_type": "execute_result"
    }
   ],
   "source": [
    "np.mean(predicted == features_test)"
   ]
  },
  {
   "cell_type": "code",
   "execution_count": 84,
   "metadata": {},
   "outputs": [
    {
     "data": {
      "text/plain": [
       "array([1, 1, 1, 1, 0, 0, 0, 0, 1, 1, 0, 1, 1, 1, 1, 1, 1, 0, 1, 1, 0, 1,\n",
       "       1, 0, 1, 1, 0, 1, 0, 1, 1, 0, 1, 1, 0, 1, 0, 1, 1, 1, 1, 0, 1, 1,\n",
       "       1, 0, 0, 1, 1], dtype=int64)"
      ]
     },
     "execution_count": 84,
     "metadata": {},
     "output_type": "execute_result"
    }
   ],
   "source": [
    "predicted"
   ]
  },
  {
   "cell_type": "code",
   "execution_count": 85,
   "metadata": {},
   "outputs": [
    {
     "data": {
      "text/plain": [
       "array([0, 1, 1, 0, 0, 0, 0, 0, 0, 1, 0, 0, 1, 1, 0, 0, 0, 0, 0, 0, 0, 0,\n",
       "       0, 0, 0, 0, 0, 1, 0, 0, 0, 0, 0, 0, 0, 1, 1, 0, 0, 0, 1, 0, 0, 0,\n",
       "       0, 0, 1, 0, 1], dtype=int64)"
      ]
     },
     "execution_count": 85,
     "metadata": {},
     "output_type": "execute_result"
    }
   ],
   "source": [
    "features_test"
   ]
  },
  {
   "cell_type": "code",
   "execution_count": 56,
   "metadata": {
    "collapsed": true
   },
   "outputs": [],
   "source": [
    "###################################################\n",
    "# ####################### SVM #####################\n",
    "###################################################"
   ]
  },
  {
   "cell_type": "code",
   "execution_count": 86,
   "metadata": {},
   "outputs": [
    {
     "data": {
      "text/plain": [
       "SVC(C=1.0, cache_size=200, class_weight=None, coef0=0.0,\n",
       "  decision_function_shape='ovr', degree=3, gamma='auto', kernel='rbf',\n",
       "  max_iter=-1, probability=False, random_state=None, shrinking=True,\n",
       "  tol=0.001, verbose=False)"
      ]
     },
     "execution_count": 86,
     "metadata": {},
     "output_type": "execute_result"
    }
   ],
   "source": [
    "clf_svm = svm.SVC()\n",
    "clf_svm.fit(X_train_tfidf, features_train)"
   ]
  },
  {
   "cell_type": "code",
   "execution_count": 87,
   "metadata": {},
   "outputs": [
    {
     "data": {
      "text/plain": [
       "array([1, 1, 1, 1, 0, 0, 0, 0, 1, 1, 0, 1, 1, 1, 1, 1, 1, 0, 1, 1, 0, 1,\n",
       "       1, 0, 1, 1, 0, 1, 0, 1, 1, 0, 1, 1, 0, 1, 0, 1, 1, 1, 1, 0, 1, 1,\n",
       "       1, 0, 0, 1, 1], dtype=int64)"
      ]
     },
     "execution_count": 87,
     "metadata": {},
     "output_type": "execute_result"
    }
   ],
   "source": [
    "predicted_svm = clf_svm.predict(X_test_tfidf)\n",
    "predicted"
   ]
  },
  {
   "cell_type": "code",
   "execution_count": 89,
   "metadata": {},
   "outputs": [
    {
     "data": {
      "text/plain": [
       "0.3673469387755102"
      ]
     },
     "execution_count": 89,
     "metadata": {},
     "output_type": "execute_result"
    }
   ],
   "source": [
    "np.mean(predicted_svm == features_test)"
   ]
  }
 ],
 "metadata": {
  "kernelspec": {
   "display_name": "Python 3",
   "language": "python",
   "name": "python3"
  },
  "language_info": {
   "codemirror_mode": {
    "name": "ipython",
    "version": 3
   },
   "file_extension": ".py",
   "mimetype": "text/x-python",
   "name": "python",
   "nbconvert_exporter": "python",
   "pygments_lexer": "ipython3",
   "version": "3.6.2"
  }
 },
 "nbformat": 4,
 "nbformat_minor": 2
}
