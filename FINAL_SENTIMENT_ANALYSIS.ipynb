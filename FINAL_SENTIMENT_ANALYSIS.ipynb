{
 "cells": [
  {
   "cell_type": "code",
   "execution_count": 31,
   "metadata": {},
   "outputs": [
    {
     "name": "stderr",
     "output_type": "stream",
     "text": [
      "/Users/abhivora/anaconda3/lib/python3.6/site-packages/sklearn/model_selection/_split.py:2026: FutureWarning: From version 0.21, test_size will always complement train_size unless both are specified.\n",
      "  FutureWarning)\n"
     ]
    },
    {
     "name": "stdout",
     "output_type": "stream",
     "text": [
      "Train Accuracy ::  0.985795454545\n",
      "Test Accuracy  ::  0.64238410596\n",
      "Confusion matrix  [[35  7  5]\n",
      " [20 22  4]\n",
      " [13  5 40]]\n",
      "[-2.  0. -2. ..., -2.  1. -2.]\n"
     ]
    }
   ],
   "source": [
    "from sklearn.ensemble import RandomForestClassifier\n",
    "from sklearn.model_selection import train_test_split\n",
    "from sklearn.metrics import accuracy_score\n",
    "from sklearn.metrics import confusion_matrix\n",
    "import random\n",
    "from sklearn.feature_extraction.text import CountVectorizer\n",
    "import pandas as pd\n",
    "\n",
    "\n",
    "df = pd.read_csv('final_dataset.csv', usecols=['Tweet', 'For guns?', 'Location']).dropna()\n",
    "df = df.append(df[df[\"For guns?\"] == 1])\n",
    "\n",
    "training_size = len(df)\n",
    "validate_df = pd.read_csv('mega_tweet_data.csv', usecols=['Tweet', 'Location']).dropna()\n",
    "\n",
    "#df = df[df[\"For guns?\"] != -2]\n",
    "df = df.append(validate_df)\n",
    "\n",
    "vec = CountVectorizer()\n",
    "X = vec.fit_transform(df[\"Tweet\"])\n",
    "\n",
    "train_x, test_x, train_y, test_y = train_test_split(X[:training_size], df['For guns?'][:training_size], train_size=0.7)\n",
    "\n",
    "clf = RandomForestClassifier()\n",
    "clf.fit(train_x, train_y)\n",
    "\n",
    "predictions = clf.predict(test_x)\n",
    "\n",
    "print(\"Train Accuracy :: \", accuracy_score(train_y, clf.predict(train_x)))\n",
    "print(\"Test Accuracy  :: \", accuracy_score(test_y, predictions))\n",
    "print(\"Confusion matrix \", confusion_matrix(test_y, predictions))\n",
    "\n",
    "\n",
    "validate_df['For guns?'] = clf.predict(X[training_size:])\n",
    "validate_df.to_csv('Validated_Final.csv')\n",
    "print(validate)\n",
    "\n"
   ]
  },
  {
   "cell_type": "code",
   "execution_count": null,
   "metadata": {
    "collapsed": true
   },
   "outputs": [],
   "source": []
  },
  {
   "cell_type": "code",
   "execution_count": null,
   "metadata": {
    "collapsed": true
   },
   "outputs": [],
   "source": []
  },
  {
   "cell_type": "code",
   "execution_count": null,
   "metadata": {
    "collapsed": true
   },
   "outputs": [],
   "source": []
  }
 ],
 "metadata": {
  "kernelspec": {
   "display_name": "Python 3",
   "language": "python",
   "name": "python3"
  },
  "language_info": {
   "codemirror_mode": {
    "name": "ipython",
    "version": 3
   },
   "file_extension": ".py",
   "mimetype": "text/x-python",
   "name": "python",
   "nbconvert_exporter": "python",
   "pygments_lexer": "ipython3",
   "version": "3.6.4"
  }
 },
 "nbformat": 4,
 "nbformat_minor": 2
}
