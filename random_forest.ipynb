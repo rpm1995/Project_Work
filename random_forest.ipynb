{
 "cells": [
  {
   "cell_type": "code",
   "execution_count": 35,
   "metadata": {},
   "outputs": [
    {
     "name": "stdout",
     "output_type": "stream",
     "text": [
      "Train Accuracy ::  0.987012987013\n",
      "Test Accuracy  ::  0.83\n",
      "Confusion matrix  [[43 10]\n",
      " [ 7 40]]\n"
     ]
    },
    {
     "name": "stderr",
     "output_type": "stream",
     "text": [
      "/Users/abhivora/anaconda3/lib/python3.6/site-packages/sklearn/model_selection/_split.py:2026: FutureWarning: From version 0.21, test_size will always complement train_size unless both are specified.\n",
      "  FutureWarning)\n"
     ]
    }
   ],
   "source": [
    "from sklearn.ensemble import RandomForestClassifier\n",
    "from sklearn.model_selection import train_test_split\n",
    "from sklearn.metrics import accuracy_score\n",
    "from sklearn.metrics import confusion_matrix\n",
    "import random\n",
    "from sklearn.feature_extraction.text import CountVectorizer\n",
    "import pandas as pd\n",
    "\n",
    "\n",
    "\n",
    "df = pd.read_csv('final_dataset.csv', usecols=['Tweet', 'For guns?'])\n",
    "df = df[df[\"For guns?\"] != -2]\n",
    "\n",
    "count_0 = df[df[\"For guns?\"] == 0]\n",
    "count_1 = df[df[\"For guns?\"] == 1]\n",
    "\n",
    "df = df.append(count_1) ## Appended the \"1\" tweets since they were about half of the other one., Basically to provide equal values.\n",
    "\n",
    "#df = df.sample(n=3000, replace=True)\n",
    "\n",
    "vec = CountVectorizer()\n",
    "X = vec.fit_transform(df[\"Tweet\"])\n",
    "\n",
    "\n",
    "train_x, test_x, train_y, test_y = train_test_split(X, df['For guns?'], train_size=0.7)\n",
    "\n",
    "clf = RandomForestClassifier()\n",
    "clf.fit(train_x, train_y)\n",
    "\n",
    "predictions = clf.predict(test_x)\n",
    "\n",
    "print(\"Train Accuracy :: \", accuracy_score(train_y, clf.predict(train_x)))\n",
    "print(\"Test Accuracy  :: \", accuracy_score(test_y, predictions))\n",
    "print(\"Confusion matrix \", confusion_matrix(test_y, predictions))\n",
    "\n"
   ]
  }
 ],
 "metadata": {
  "kernelspec": {
   "display_name": "Python 3",
   "language": "python",
   "name": "python3"
  },
  "language_info": {
   "codemirror_mode": {
    "name": "ipython",
    "version": 3
   },
   "file_extension": ".py",
   "mimetype": "text/x-python",
   "name": "python",
   "nbconvert_exporter": "python",
   "pygments_lexer": "ipython3",
   "version": "3.6.4"
  }
 },
 "nbformat": 4,
 "nbformat_minor": 2
}
